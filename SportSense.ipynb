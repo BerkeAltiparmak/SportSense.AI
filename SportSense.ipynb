{
  "nbformat": 4,
  "nbformat_minor": 0,
  "metadata": {
    "colab": {
      "provenance": []
    },
    "kernelspec": {
      "name": "python3",
      "display_name": "Python 3"
    },
    "language_info": {
      "name": "python"
    }
  },
  "cells": [
    {
      "cell_type": "markdown",
      "source": [
        "# Imports"
      ],
      "metadata": {
        "id": "ho7fVx11dom7"
      }
    },
    {
      "cell_type": "code",
      "source": [
        "import pandas as pd # 1.1\n",
        "from sklearn.preprocessing import StandardScaler # 1.2\n",
        "from sklearn.model_selection import train_test_split # 1.4"
      ],
      "metadata": {
        "id": "nnJLZJ9geBIR"
      },
      "execution_count": null,
      "outputs": []
    },
    {
      "cell_type": "markdown",
      "source": [
        "# 1. Data Preprocessing"
      ],
      "metadata": {
        "id": "Lzk-MC-UdrsZ"
      }
    },
    {
      "cell_type": "markdown",
      "source": [
        "## 1.1 Get Data"
      ],
      "metadata": {
        "id": "S-_0wKafeMMV"
      }
    },
    {
      "cell_type": "markdown",
      "source": [
        "## 1.2 Z-Score Normalization / Standardization"
      ],
      "metadata": {
        "id": "Ob3lrIAtdtXO"
      }
    },
    {
      "cell_type": "code",
      "source": [
        "# Select the columns with player stats\n",
        "stats_columns = ['points', 'rebounds', 'assists', 'steals', 'blocks']  # Make sure we got all the columns here\n",
        "\n",
        "# Initialize the scaler\n",
        "scaler = StandardScaler()\n",
        "\n",
        "# Normalize the stats using Z-score normalization\n",
        "df[stats_columns] = scaler.fit_transform(df[stats_columns])\n"
      ],
      "metadata": {
        "id": "w0NPMa0sdyZ1",
        "colab": {
          "base_uri": "https://localhost:8080/",
          "height": 53
        },
        "outputId": "2843dd1c-13f6-4cc6-beb5-19cd2112589d"
      },
      "execution_count": null,
      "outputs": [
        {
          "output_type": "execute_result",
          "data": {
            "text/plain": [
              "\"\\n# Select the columns with player stats\\nstats_columns = ['points', 'rebounds', 'assists', 'steals', 'blocks']  # Make sure we got all the columns here\\n\\n# Initialize the scaler\\nscaler = StandardScaler()\\n\\n# Normalize the stats using Z-score normalization\\ndf[stats_columns] = scaler.fit_transform(df[stats_columns])\\n\""
            ],
            "application/vnd.google.colaboratory.intrinsic+json": {
              "type": "string"
            }
          },
          "metadata": {},
          "execution_count": 21
        }
      ]
    },
    {
      "cell_type": "markdown",
      "source": [
        "## 1.3 One-Hot Encoding"
      ],
      "metadata": {
        "id": "q9AzA7_sdyp3"
      }
    },
    {
      "cell_type": "code",
      "source": [
        "# One-hot encode the categorical columns\n",
        "df = pd.get_dummies(df, columns=['opp_team'])"
      ],
      "metadata": {
        "id": "9WjkfPqod29d"
      },
      "execution_count": null,
      "outputs": []
    },
    {
      "cell_type": "markdown",
      "source": [
        "## 1.4 Train-Test Split"
      ],
      "metadata": {
        "id": "aGHvPhDJd3_2"
      }
    },
    {
      "cell_type": "code",
      "source": [
        "# Split the data\n",
        "X = df.drop(['fp'], axis=1)  # Features\n",
        "y = df['fp']  # Target\n",
        "X_train, X_test, y_train, y_test = train_test_split(X, y, test_size=0.2, random_state=6)"
      ],
      "metadata": {
        "id": "sl56Nonqbm97"
      },
      "execution_count": null,
      "outputs": []
    }
  ]
}